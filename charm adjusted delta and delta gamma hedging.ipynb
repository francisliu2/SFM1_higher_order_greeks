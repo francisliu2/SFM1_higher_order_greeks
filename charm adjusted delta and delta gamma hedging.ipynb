{
 "cells": [
  {
   "cell_type": "code",
   "execution_count": 2,
   "metadata": {},
   "outputs": [
    {
     "data": {
      "text/html": [
       "        <script type=\"text/javascript\">\n",
       "        window.PlotlyConfig = {MathJaxConfig: 'local'};\n",
       "        if (window.MathJax) {MathJax.Hub.Config({SVG: {font: \"STIX-Web\"}});}\n",
       "        if (typeof require !== 'undefined') {\n",
       "        require.undef(\"plotly\");\n",
       "        requirejs.config({\n",
       "            paths: {\n",
       "                'plotly': ['https://cdn.plot.ly/plotly-latest.min']\n",
       "            }\n",
       "        });\n",
       "        require(['plotly'], function(Plotly) {\n",
       "            window._Plotly = Plotly;\n",
       "        });\n",
       "        }\n",
       "        </script>\n",
       "        "
      ]
     },
     "metadata": {},
     "output_type": "display_data"
    }
   ],
   "source": [
    "import pandas as pd\n",
    "import numpy as np\n",
    "from scipy.stats import norm\n",
    "import matplotlib.pyplot as plt\n",
    "from mpl_toolkits.mplot3d import Axes3D\n",
    "from _plotly_future_ import v4_subplots\n",
    "from plotly.subplots import make_subplots\n",
    "from plotly.offline import init_notebook_mode, plot, iplot\n",
    "import plotly.plotly as py\n",
    "import plotly.graph_objs as go\n",
    "init_notebook_mode(connected=True)\n",
    "import pickle \n",
    "from random import gauss\n"
   ]
  },
  {
   "cell_type": "code",
   "execution_count": 1,
   "metadata": {},
   "outputs": [],
   "source": [
    "def calculate_delta(S,K,r,d,Tau,sig):\n",
    "    Z = (np.log(S/K) + (r-d+sig**2/2) * Tau) / (sig*np.sqrt(Tau))\n",
    "    return  np.exp(-d*Tau) *norm.cdf(Z)\n",
    "\n",
    "def calculate_gamma(S,K,r,d,Tau,sig):\n",
    "    Z = (np.log(S/K) + (r-d+sig**2/2) * Tau) / (sig*np.sqrt(Tau))\n",
    "    return np.exp(-d*Tau) * norm.pdf(Z)/(S*sig*np.sqrt(Tau))\n",
    "\n",
    "def calculate_charm(S,K,r,d,Tau,sig):\n",
    "    Z = (np.log(S/K) + (r-d+sig**2/2) * Tau) / (sig*np.sqrt(Tau))\n",
    "    d2 = Z - sig*np.sqrt(Tau)\n",
    "    A = d*np.exp(-d*Tau) * norm.cdf(Z)\n",
    "    B = np.exp(-d*Tau) * norm.pdf(Z)* ((2*(r-d)*Tau) - d2*sig*np.sqrt(Tau))/(S*Tau*sig*np.sqrt(Tau))\n",
    "    return A-B"
   ]
  },
  {
   "cell_type": "code",
   "execution_count": 42,
   "metadata": {},
   "outputs": [],
   "source": [
    "# Monte Carlo Simulation of Stock Price\n",
    "def generate_asset_price(S0, sig, r, dt):\n",
    "    return S0 * np.exp((r - 0.5 * sig**2) * dt + sig * np.sqrt(dt) * gauss(0,1.0))\n",
    "\n"
   ]
  },
  {
   "cell_type": "code",
   "execution_count": 43,
   "metadata": {},
   "outputs": [],
   "source": [
    "# Start from S0 = 100\n",
    "path=[100]\n",
    "\n",
    "# Parameters\n",
    "sig = 0.85\n",
    "r   = 0.1 \n",
    "T   = 1\n",
    "N_datapoints = 365\n",
    "dt = T/N_datapoints\n",
    "\n",
    "for i in range(T*N_datapoints):\n",
    "    path.append(generate_asset_price(path[-1], sig, r, dt))\n",
    "    \n",
    "plt.plot(path)"
   ]
  },
  {
   "cell_type": "code",
   "execution_count": 44,
   "metadata": {},
   "outputs": [
    {
     "data": {
      "text/plain": [
       "[<matplotlib.lines.Line2D at 0x1a18351450>]"
      ]
     },
     "execution_count": 44,
     "metadata": {},
     "output_type": "execute_result"
    },
    {
     "data": {
      "image/png": "[encoded data removed]",
      "text/plain": [
       "<Figure size 432x288 with 1 Axes>"
      ]
     },
     "metadata": {
      "needs_background": "light"
     },
     "output_type": "display_data"
    }
   ],
   "source": []
  }
 ],
 "metadata": {
  "kernelspec": {
   "display_name": "Python 3",
   "language": "python",
   "name": "python3"
  },
  "language_info": {
   "codemirror_mode": {
    "name": "ipython",
    "version": 3
   },
   "file_extension": ".py",
   "mimetype": "text/x-python",
   "name": "python",
   "nbconvert_exporter": "python",
   "pygments_lexer": "ipython3",
   "version": "3.7.4"
  }
 },
 "nbformat": 4,
 "nbformat_minor": 2
}
