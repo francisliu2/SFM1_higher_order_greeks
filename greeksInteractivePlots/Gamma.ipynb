{
 "cells": [
  {
   "cell_type": "code",
   "execution_count": 10,
   "metadata": {},
   "outputs": [
    {
     "data": {
      "text/html": [
       "        <script type=\"text/javascript\">\n",
       "        window.PlotlyConfig = {MathJaxConfig: 'local'};\n",
       "        if (window.MathJax) {MathJax.Hub.Config({SVG: {font: \"STIX-Web\"}});}\n",
       "        if (typeof require !== 'undefined') {\n",
       "        require.undef(\"plotly\");\n",
       "        requirejs.config({\n",
       "            paths: {\n",
       "                'plotly': ['https://cdn.plot.ly/plotly-latest.min']\n",
       "            }\n",
       "        });\n",
       "        require(['plotly'], function(Plotly) {\n",
       "            window._Plotly = Plotly;\n",
       "        });\n",
       "        }\n",
       "        </script>\n",
       "        "
      ]
     },
     "metadata": {},
     "output_type": "display_data"
    }
   ],
   "source": [
    "import pandas as pd\n",
    "import numpy as np\n",
    "from scipy.stats import norm\n",
    "import matplotlib.pyplot as plt\n",
    "from mpl_toolkits.mplot3d import Axes3D\n",
    "from _plotly_future_ import v4_subplots\n",
    "from plotly.subplots import make_subplots\n",
    "from plotly.offline import init_notebook_mode, plot, iplot\n",
    "import plotly.graph_objs as go\n",
    "init_notebook_mode(connected=True)\n",
    "import pickle "
   ]
  },
  {
   "cell_type": "code",
   "execution_count": 11,
   "metadata": {},
   "outputs": [],
   "source": [
    "# parameter settings\n",
    "S_min   = 50          # lower bound for the asset price\n",
    "S_max   = 150         # upper bound for the asset price\n",
    "Tau_min = 0.01        # lower bound for time to maturity\n",
    "Tau_max = 1           # upper bound for time to maturity\n",
    "K       = 100         # strike price\n",
    "r       = 0.1         # risk-free interest rate                  \n",
    "sig     = 0.85        # volatility               \n",
    "d       = 0.2         # dividend rate                \n",
    "steps   = 60          # steps "
   ]
  },
  {
   "cell_type": "code",
   "execution_count": 17,
   "metadata": {},
   "outputs": [],
   "source": [
    "def calculate_gamma(S,K,r,d,Tau,sig):\n",
    "    d1 = (np.log(S/K) + (r-d+sig**2/2) * Tau) / (sig*np.sqrt(Tau))\n",
    "    return (np.exp(-d*Tau) * norm.pdf(d1)) / (S*sig*np.sqrt(Tau))"
   ]
  },
  {
   "cell_type": "code",
   "execution_count": 18,
   "metadata": {},
   "outputs": [],
   "source": [
    "# Gamma surface\n",
    "Gamma = np.zeros([steps, steps])\n",
    "\n",
    "# space partitioning\n",
    "Tau_grid = np.arange(Tau_min, Tau_max+0.01, (Tau_max-Tau_min)/(steps-1))\n",
    "S_grid = np.arange(S_min, S_max+0.01, (S_max-S_min)/(steps-1))\n",
    "\n",
    "for i, S in enumerate(S_grid):\n",
    "    for j, Tau in enumerate(Tau_grid):\n",
    "        Gamma[i][j] = calculate_gamma(S, K, r, d, Tau, sig) "
   ]
  },
  {
   "cell_type": "code",
   "execution_count": null,
   "metadata": {},
   "outputs": [],
   "source": [
    "layout = go.Layout(title='Gamma as function of the time to maturity and the asset price', \n",
    "                   scene = dict(xaxis_title = 'Tau', yaxis_title = 'S', zaxis_title = 'Gamma', \n",
    "                                camera_eye = dict(x=-1.6, y=-1.6, z=0.7)))\n",
    "\n",
    "fig = go.Figure(data=[go.Surface(z=Gamma, x=Tau_grid, y=S_grid)], layout=layout)\n",
    "\n",
    "# interactive plot\n",
    "iplot(fig)\n",
    "\n",
    "plot(fig, filename='Gamma.html') "
   ]
  },
  {
   "cell_type": "code",
   "execution_count": null,
   "metadata": {},
   "outputs": [],
   "source": []
  }
 ],
 "metadata": {
  "kernelspec": {
   "display_name": "Python 3",
   "language": "python",
   "name": "python3"
  },
  "language_info": {
   "codemirror_mode": {
    "name": "ipython",
    "version": 3
   },
   "file_extension": ".py",
   "mimetype": "text/x-python",
   "name": "python",
   "nbconvert_exporter": "python",
   "pygments_lexer": "ipython3",
   "version": "3.6.4"
  }
 },
 "nbformat": 4,
 "nbformat_minor": 2
}
